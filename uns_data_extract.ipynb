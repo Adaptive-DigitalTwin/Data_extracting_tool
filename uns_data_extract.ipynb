{
 "cells": [
  {
   "cell_type": "code",
   "execution_count": 11,
   "metadata": {},
   "outputs": [
    {
     "name": "stdout",
     "output_type": "stream",
     "text": [
      "14\n"
     ]
    }
   ],
   "source": [
    "import PyPDF2 \n",
    "import re\n",
    "import pickle\n",
    "\n",
    "# creating a pdf file object \n",
    "pdfFileObj = open('C:/Users/buscuadmin/Desktop/Digital_Twin.pdf', 'rb')\n",
    " \n",
    "# creating a pdf reader object \n",
    "pdfReader = PyPDF2.PdfFileReader(pdfFileObj) \n",
    "  \n",
    "# printing number of pages in pdf file \n",
    "print(pdfReader.numPages) \n",
    "  \n",
    "# creating a page object \n",
    "pageObj = pdfReader.getPage(1) \n",
    "  \n",
    "# extracting text from page \n",
    "#print(pageObj.extractText())\n",
    "\n",
    "# closing the pdf file object \n",
    "#pdfFileObj.close()"
   ]
  },
  {
   "cell_type": "code",
   "execution_count": 12,
   "metadata": {},
   "outputs": [
    {
     "name": "stdout",
     "output_type": "stream",
     "text": [
      "ProjectBackground-PredictionModellingforLifeCycleManagement\n",
      "PredictionforMaintenance\n",
      "Source:\n",
      "ITAGESoftwareConsultingAutomation\n",
      "Accident/FaultPrediction\n",
      "Source:\n",
      "www.microsoft.com\n",
      "Tomaintainthestructure'scontinuedr-purpose(FPP)\n",
      "PredictionofEconomical/Performance.\n",
      "PredictiveModelling-TechniquesbroadlybeingUsed\n",
      "StatisticalModel\n",
      "Figure:Predictionwithregression\n",
      "FEM(FiniteElementMethod)\n",
      "Source:\n",
      "www.simscale.com\n",
      "MadhuSudanSapkota\n",
      "Supervisors:\n",
      "DrEdwardApehProfVasilisKatosDrRoyaHaratianProfMark\n",
      "AdaptivePredictiveSimulationModellingUsingtheDigitalTwinParadigm\n",
      "\n"
     ]
    }
   ],
   "source": [
    "#extracting the text from the pdf reader object\n",
    "extractedText = pageObj.extractText()\n",
    "\n",
    "pdfFileObj.close()\n",
    "\n",
    "print(extractedText)\n"
   ]
  },
  {
   "cell_type": "code",
   "execution_count": null,
   "metadata": {},
   "outputs": [],
   "source": []
  }
 ],
 "metadata": {
  "kernelspec": {
   "display_name": "Python 3",
   "language": "python",
   "name": "python3"
  },
  "language_info": {
   "codemirror_mode": {
    "name": "ipython",
    "version": 3
   },
   "file_extension": ".py",
   "mimetype": "text/x-python",
   "name": "python",
   "nbconvert_exporter": "python",
   "pygments_lexer": "ipython3",
   "version": "3.7.4"
  }
 },
 "nbformat": 4,
 "nbformat_minor": 2
}

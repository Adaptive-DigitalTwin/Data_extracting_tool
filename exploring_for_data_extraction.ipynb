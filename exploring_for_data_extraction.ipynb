{
 "cells": [
  {
   "cell_type": "markdown",
   "metadata": {},
   "source": [
    "As we have extracted pages from the survey report dumped in a pickle file before. Now, we will be using that pickle dumped file to read the data "
   ]
  },
  {
   "cell_type": "code",
   "execution_count": 1,
   "metadata": {},
   "outputs": [],
   "source": [
    "class Extracted_Page:\n",
    "    def __init__(self, name):\n",
    "        self.name = name\n",
    "        self.text = ''\n",
    "        self.tables = []\n",
    "        self.Images = []"
   ]
  },
  {
   "cell_type": "code",
   "execution_count": 2,
   "metadata": {},
   "outputs": [],
   "source": [
    "class Table_in_report:\n",
    "    def __init__(self, name):\n",
    "        self.name = name\n",
    "        self.page_number = -1\n",
    "        self.data_frame = []"
   ]
  },
  {
   "cell_type": "code",
   "execution_count": 164,
   "metadata": {},
   "outputs": [],
   "source": [
    "import pickle\n",
    "with open('extracted_Pages.pickle', 'rb') as handle:\n",
    "    extracted_Pages = pickle.load(handle)"
   ]
  },
  {
   "cell_type": "code",
   "execution_count": 128,
   "metadata": {},
   "outputs": [],
   "source": [
    "data_of_interest =['cp value','cp potential','cp stab potential','field gradient','anode consumption']\n"
   ]
  },
  {
   "cell_type": "code",
   "execution_count": null,
   "metadata": {},
   "outputs": [],
   "source": []
  },
  {
   "cell_type": "code",
   "execution_count": null,
   "metadata": {},
   "outputs": [],
   "source": []
  },
  {
   "cell_type": "code",
   "execution_count": 137,
   "metadata": {},
   "outputs": [],
   "source": [
    "Important_Parameters = ['equipment description','location','zoneid','date','data analysis year','location comment','measurement comment','part number']"
   ]
  },
  {
   "cell_type": "code",
   "execution_count": 8,
   "metadata": {},
   "outputs": [],
   "source": [
    "qualitative_comments = ['satisfactory','good' ]"
   ]
  },
  {
   "cell_type": "code",
   "execution_count": null,
   "metadata": {},
   "outputs": [],
   "source": []
  },
  {
   "cell_type": "code",
   "execution_count": 20,
   "metadata": {},
   "outputs": [
    {
     "data": {
      "text/plain": [
       "[]"
      ]
     },
     "execution_count": 20,
     "metadata": {},
     "output_type": "execute_result"
    }
   ],
   "source": [
    "extracted_Pages['page_18'].tables"
   ]
  },
  {
   "cell_type": "code",
   "execution_count": 169,
   "metadata": {},
   "outputs": [],
   "source": [
    "location_finding_strings = ['equipment description']\n",
    "Location_available = []\n",
    "for page in extracted_Pages:\n",
    "    for table in extracted_Pages[page].tables:\n",
    "        df = table.data_frame\n",
    "        #adding all the terms to the list related to the location finding strings\n",
    "        [Location_available.extend(df[name].tolist()) for name in df.columns for s in location_finding_strings if\n",
    "         name.lower().startswith(s)]\n"
   ]
  },
  {
   "cell_type": "code",
   "execution_count": 55,
   "metadata": {},
   "outputs": [],
   "source": [
    "#Location_available"
   ]
  },
  {
   "cell_type": "code",
   "execution_count": 170,
   "metadata": {},
   "outputs": [
    {
     "data": {
      "text/html": [
       "<div>\n",
       "<style scoped>\n",
       "    .dataframe tbody tr th:only-of-type {\n",
       "        vertical-align: middle;\n",
       "    }\n",
       "\n",
       "    .dataframe tbody tr th {\n",
       "        vertical-align: top;\n",
       "    }\n",
       "\n",
       "    .dataframe thead th {\n",
       "        text-align: right;\n",
       "    }\n",
       "</style>\n",
       "<table border=\"1\" class=\"dataframe\">\n",
       "  <thead>\n",
       "    <tr style=\"text-align: right;\">\n",
       "      <th></th>\n",
       "      <th>Connector</th>\n",
       "      <th>Equipment Description</th>\n",
       "      <th>CP Value\\n(mV)</th>\n",
       "    </tr>\n",
       "  </thead>\n",
       "  <tbody>\n",
       "    <tr>\n",
       "      <th>0</th>\n",
       "      <td>54-1</td>\n",
       "      <td>Chain 1 Connector Tube</td>\n",
       "      <td>-957</td>\n",
       "    </tr>\n",
       "    <tr>\n",
       "      <th>1</th>\n",
       "      <td>54-2</td>\n",
       "      <td>Chain 2 Connector Tube</td>\n",
       "      <td>RA</td>\n",
       "    </tr>\n",
       "    <tr>\n",
       "      <th>2</th>\n",
       "      <td>54-3</td>\n",
       "      <td>Chain 3 Connector Tube</td>\n",
       "      <td>-957</td>\n",
       "    </tr>\n",
       "    <tr>\n",
       "      <th>3</th>\n",
       "      <td>54-4</td>\n",
       "      <td>Chain 4 Connector Tube</td>\n",
       "      <td>-869</td>\n",
       "    </tr>\n",
       "    <tr>\n",
       "      <th>4</th>\n",
       "      <td>54-4</td>\n",
       "      <td>Chain 4 Connector Tube</td>\n",
       "      <td>-870</td>\n",
       "    </tr>\n",
       "    <tr>\n",
       "      <th>5</th>\n",
       "      <td>54-5</td>\n",
       "      <td>Chain 5 Connector Tube</td>\n",
       "      <td>-663</td>\n",
       "    </tr>\n",
       "    <tr>\n",
       "      <th>6</th>\n",
       "      <td>54-6</td>\n",
       "      <td>Chain 6 Connector Tube</td>\n",
       "      <td>-643</td>\n",
       "    </tr>\n",
       "    <tr>\n",
       "      <th>7</th>\n",
       "      <td>54-7</td>\n",
       "      <td>Chain 7 Connector Tube</td>\n",
       "      <td>-659</td>\n",
       "    </tr>\n",
       "  </tbody>\n",
       "</table>\n",
       "</div>"
      ],
      "text/plain": [
       "  Connector   Equipment Description CP Value\\n(mV)\n",
       "0      54-1  Chain 1 Connector Tube           -957\n",
       "1      54-2  Chain 2 Connector Tube             RA\n",
       "2      54-3  Chain 3 Connector Tube           -957\n",
       "3      54-4  Chain 4 Connector Tube           -869\n",
       "4      54-4  Chain 4 Connector Tube           -870\n",
       "5      54-5  Chain 5 Connector Tube           -663\n",
       "6      54-6  Chain 6 Connector Tube           -643\n",
       "7      54-7  Chain 7 Connector Tube           -659"
      ]
     },
     "execution_count": 170,
     "metadata": {},
     "output_type": "execute_result"
    }
   ],
   "source": [
    "extracted_Pages['page_147'].tables[0].data_frame"
   ]
  },
  {
   "cell_type": "code",
   "execution_count": 180,
   "metadata": {},
   "outputs": [],
   "source": [
    "tables_with_CP_readings = []\n",
    "for page in extracted_Pages:\n",
    "    for table in extracted_Pages[page].tables:\n",
    "        for column in table.data_frame.columns:\n",
    "            if any(column.lower().startswith(data) for data in data_of_interest):\n",
    "                tables_with_CP_readings.append(table)\n",
    "                continue"
   ]
  },
  {
   "cell_type": "code",
   "execution_count": 184,
   "metadata": {},
   "outputs": [
    {
     "name": "stdout",
     "output_type": "stream",
     "text": [
      " south buoy steel cp readings  \n",
      " (4, 4) 41\n",
      " north ool cp reading  \n",
      " (1, 2) 94\n",
      " south ool cp reading \n",
      " (1, 2) 100\n",
      " cp survey: upper chains  \n",
      " (7, 3) 117\n",
      "No_name (8, 3) 147\n"
     ]
    },
    {
     "data": {
      "text/plain": [
       "[None, None, None, None, None]"
      ]
     },
     "execution_count": 184,
     "metadata": {},
     "output_type": "execute_result"
    }
   ],
   "source": [
    "[print(df.name, df.data_frame.shape, df.page_number) for df in data_frames_with_CP_readings]"
   ]
  },
  {
   "cell_type": "code",
   "execution_count": 173,
   "metadata": {},
   "outputs": [],
   "source": [
    "#removing the  dataframes which are empty\n",
    "\n",
    "for page in extracted_Pages:\n",
    "    ini_tables_list = extracted_Pages[page].tables\n",
    "    \n",
    "    new_tables_list = ini_tables_list\n",
    "    new_tables_list = [table for table in ini_tables_list if not table.data_frame.empty]\n",
    "            \n",
    "    if len(tables_list) != len(new_tables_list):\n",
    "        new_page = Extracted_Page(page)\n",
    "        new_page.text = extracted_Pages[page].text\n",
    "        new_page.tables = new_tables_list\n",
    "        \n",
    "        extracted_Pages[page] = new_page\n",
    "        "
   ]
  },
  {
   "cell_type": "code",
   "execution_count": 70,
   "metadata": {},
   "outputs": [],
   "source": [
    "#[print(key, len(extracted_Pages[key].tables)) for key in extracted_Pages]"
   ]
  },
  {
   "cell_type": "code",
   "execution_count": 186,
   "metadata": {},
   "outputs": [
    {
     "data": {
      "text/plain": [
       "Index(['Connector', 'Equipment Description', 'CP Value\\n(mV)'], dtype='object')"
      ]
     },
     "execution_count": 186,
     "metadata": {},
     "output_type": "execute_result"
    }
   ],
   "source": [
    " extracted_Pages['page_147'].tables[0].data_frame.columns"
   ]
  },
  {
   "cell_type": "code",
   "execution_count": 210,
   "metadata": {},
   "outputs": [
    {
     "data": {
      "text/html": [
       "<div>\n",
       "<style scoped>\n",
       "    .dataframe tbody tr th:only-of-type {\n",
       "        vertical-align: middle;\n",
       "    }\n",
       "\n",
       "    .dataframe tbody tr th {\n",
       "        vertical-align: top;\n",
       "    }\n",
       "\n",
       "    .dataframe thead th {\n",
       "        text-align: right;\n",
       "    }\n",
       "</style>\n",
       "<table border=\"1\" class=\"dataframe\">\n",
       "  <thead>\n",
       "    <tr style=\"text-align: right;\">\n",
       "      <th></th>\n",
       "      <th>Connector</th>\n",
       "      <th>Equipment Description</th>\n",
       "      <th>CP Value\\n(mV)</th>\n",
       "    </tr>\n",
       "  </thead>\n",
       "  <tbody>\n",
       "    <tr>\n",
       "      <th>0</th>\n",
       "      <td>54-1</td>\n",
       "      <td>Chain 1 Connector Tube</td>\n",
       "      <td>-957</td>\n",
       "    </tr>\n",
       "    <tr>\n",
       "      <th>1</th>\n",
       "      <td>54-2</td>\n",
       "      <td>Chain 2 Connector Tube</td>\n",
       "      <td>RA</td>\n",
       "    </tr>\n",
       "    <tr>\n",
       "      <th>2</th>\n",
       "      <td>54-3</td>\n",
       "      <td>Chain 3 Connector Tube</td>\n",
       "      <td>-957</td>\n",
       "    </tr>\n",
       "    <tr>\n",
       "      <th>3</th>\n",
       "      <td>54-4</td>\n",
       "      <td>Chain 4 Connector Tube</td>\n",
       "      <td>-869</td>\n",
       "    </tr>\n",
       "    <tr>\n",
       "      <th>4</th>\n",
       "      <td>54-4</td>\n",
       "      <td>Chain 4 Connector Tube</td>\n",
       "      <td>-870</td>\n",
       "    </tr>\n",
       "    <tr>\n",
       "      <th>5</th>\n",
       "      <td>54-5</td>\n",
       "      <td>Chain 5 Connector Tube</td>\n",
       "      <td>-663</td>\n",
       "    </tr>\n",
       "    <tr>\n",
       "      <th>6</th>\n",
       "      <td>54-6</td>\n",
       "      <td>Chain 6 Connector Tube</td>\n",
       "      <td>-643</td>\n",
       "    </tr>\n",
       "    <tr>\n",
       "      <th>7</th>\n",
       "      <td>54-7</td>\n",
       "      <td>Chain 7 Connector Tube</td>\n",
       "      <td>-659</td>\n",
       "    </tr>\n",
       "  </tbody>\n",
       "</table>\n",
       "</div>"
      ],
      "text/plain": [
       "  Connector   Equipment Description CP Value\\n(mV)\n",
       "0      54-1  Chain 1 Connector Tube           -957\n",
       "1      54-2  Chain 2 Connector Tube             RA\n",
       "2      54-3  Chain 3 Connector Tube           -957\n",
       "3      54-4  Chain 4 Connector Tube           -869\n",
       "4      54-4  Chain 4 Connector Tube           -870\n",
       "5      54-5  Chain 5 Connector Tube           -663\n",
       "6      54-6  Chain 6 Connector Tube           -643\n",
       "7      54-7  Chain 7 Connector Tube           -659"
      ]
     },
     "execution_count": 210,
     "metadata": {},
     "output_type": "execute_result"
    }
   ],
   "source": [
    "df"
   ]
  },
  {
   "cell_type": "code",
   "execution_count": 201,
   "metadata": {},
   "outputs": [],
   "source": [
    "df = extracted_Pages['page_147'].tables[0].data_frame"
   ]
  },
  {
   "cell_type": "code",
   "execution_count": 217,
   "metadata": {},
   "outputs": [
    {
     "name": "stdout",
     "output_type": "stream",
     "text": [
      "-957.0\n",
      "-957.0\n",
      "-869.0\n"
     ]
    }
   ],
   "source": [
    "#isinstance(df.iloc[0,2], str) \n",
    "for i in range(3):\n",
    "    for j in range(4):\n",
    "        try:\n",
    "            print(float(df.iloc[j,i]))\n",
    "        except ValueError:\n",
    "            continue\n",
    "        \n",
    "            print('nnn')\n",
    "\n"
   ]
  },
  {
   "cell_type": "code",
   "execution_count": 118,
   "metadata": {},
   "outputs": [],
   "source": [
    "class Reading_value:\n",
    "    def __init__(self, value):\n",
    "        self.value = value\n",
    "        self.location = ''\n",
    "        self.unit = ''\n",
    "        self.date = ''\n",
    "        self.equipment_description = ''\n",
    "    "
   ]
  },
  {
   "cell_type": "code",
   "execution_count": null,
   "metadata": {},
   "outputs": [],
   "source": []
  },
  {
   "cell_type": "code",
   "execution_count": 218,
   "metadata": {},
   "outputs": [
    {
     "name": "stdout",
     "output_type": "stream",
     "text": [
      "(4, 4)\n",
      "Index(['Task\\nNumber', 'Equipment Description', 'Location', 'CP Value\\n(mV)'], dtype='object')\n",
      "cp value\n",
      "(mv)\n",
      "-1070\n",
      "-1062\n",
      "-1082\n",
      "-1077\n",
      "(1, 2)\n",
      "Index(['Location', 'CP Value (mV)'], dtype='object')\n",
      "cp value (mv)\n",
      "-1084\n",
      "(1, 2)\n",
      "Index(['Location', 'CP Value (mV)'], dtype='object')\n",
      "cp value (mv)\n",
      "-1085\n",
      "(7, 3)\n",
      "Index(['Task', 'Equipment Description', 'CP Value\\n(mV)'], dtype='object')\n",
      "cp value\n",
      "(mv)\n",
      "-948\n",
      "-948\n",
      "-940\n",
      "-865\n",
      "-668\n",
      "-664\n",
      "-668\n",
      "(8, 3)\n",
      "Index(['Connector', 'Equipment Description', 'CP Value\\n(mV)'], dtype='object')\n",
      "cp value\n",
      "(mv)\n",
      "-957\n",
      "-957\n",
      "-869\n",
      "-870\n",
      "-663\n",
      "-643\n",
      "-659\n"
     ]
    }
   ],
   "source": [
    "unwanted_words_in_title = ['readings', 'cp', 'survey', ':']\n",
    "readings_with_location = []\n",
    "for CP_reading_table in tables_with_CP_readings:\n",
    "    d_f = CP_reading_table.data_frame \n",
    "    \n",
    "    print(d_f.shape)\n",
    "    location_name = CP_reading_table.name\n",
    "    for s in unwanted_words_in_title:\n",
    "        location_name = location_name.replace(s,'')\n",
    "    \n",
    "    size_of_columns = len(d_f.columns)\n",
    "    print(d_f.columns)\n",
    "    for first_loop_col_idx, column in enumerate(d_f.columns):   \n",
    "        if any(column.lower().startswith(data) for data in data_of_interest):\n",
    "            print(column.lower())\n",
    "            for i in range(len(d_f.index)):\n",
    "                data_value = d_f.iloc[i, first_loop_col_idx]\n",
    "                \n",
    "                #if not isinstance(data_value, str) :\n",
    "                try:\n",
    "                    float(data_value)\n",
    "                except ValueError:\n",
    "                    continue\n",
    "\n",
    "                new_value = Reading_value(data_value)\n",
    "                new_value.unit = column\n",
    "                print(data_value)\n",
    "                    \n",
    "                    #explore all the data in the same row\n",
    "                for new_col_idx in range(size_of_columns):\n",
    "                    if new_col_idx != first_loop_col_idx: #explore all except the previous one\n",
    "                        secondary_data = d_f.iloc[i, new_col_idx]\n",
    "                        if not isinstance(secondary_data, str) and d_f.columns[new_col_idx] == column:\n",
    "                            continue\n",
    "                            \n",
    "                            #if any(st == d_f.columns[new_col_idx] for st in Important_parameters):\n",
    "                        if d_f.columns[new_col_idx].lower() == 'location':\n",
    "                            new_value.location = secondary_data\n",
    "                            \n",
    "                        if d_f.columns[new_col_idx].lower() == 'equipment description' :\n",
    "                            new_value.equipment_description = secondary_data\n",
    "                                \n",
    "                readings_with_location.append(new_value)"
   ]
  },
  {
   "cell_type": "code",
   "execution_count": 219,
   "metadata": {},
   "outputs": [
    {
     "name": "stdout",
     "output_type": "stream",
     "text": [
      "-1070 , 0deg , Buoy Bottom Plating\n",
      "-1062 , 180deg , Buoy Bottom Plating\n",
      "-1082 , 0deg , Buoy Outer Shell Plating\n",
      "-1077 , 180deg , Buoy Outer Shell Plating\n",
      "-1084 , Flex-Joint Body , \n",
      "-1085 , Flex-Joint Body , \n",
      "-948 ,  , Mooring Chain 1 - Link 5\n",
      "-948 ,  , Mooring Chain 2 - Link 5\n",
      "-940 ,  , Mooring Chain 3 - Link 5\n",
      "-865 ,  , Mooring Chain 4 - Link 5\n",
      "-668 ,  , Mooring Chain 5 - Link 5\n",
      "-664 ,  , Mooring Chain 6 - Link 5\n",
      "-668 ,  , Mooring Chain 7 - Link 5\n",
      "-957 ,  , Chain 1 Connector Tube\n",
      "-957 ,  , Chain 3 Connector Tube\n",
      "-869 ,  , Chain 4 Connector Tube\n",
      "-870 ,  , Chain 4 Connector Tube\n",
      "-663 ,  , Chain 5 Connector Tube\n",
      "-643 ,  , Chain 6 Connector Tube\n",
      "-659 ,  , Chain 7 Connector Tube\n"
     ]
    },
    {
     "data": {
      "text/plain": [
       "[None,\n",
       " None,\n",
       " None,\n",
       " None,\n",
       " None,\n",
       " None,\n",
       " None,\n",
       " None,\n",
       " None,\n",
       " None,\n",
       " None,\n",
       " None,\n",
       " None,\n",
       " None,\n",
       " None,\n",
       " None,\n",
       " None,\n",
       " None,\n",
       " None,\n",
       " None]"
      ]
     },
     "execution_count": 219,
     "metadata": {},
     "output_type": "execute_result"
    }
   ],
   "source": [
    "[print(a.value,',', a.location,',', a.equipment_description) for a in readings_with_location]"
   ]
  },
  {
   "cell_type": "code",
   "execution_count": null,
   "metadata": {},
   "outputs": [],
   "source": []
  }
 ],
 "metadata": {
  "kernelspec": {
   "display_name": "Python 3",
   "language": "python",
   "name": "python3"
  },
  "language_info": {
   "codemirror_mode": {
    "name": "ipython",
    "version": 3
   },
   "file_extension": ".py",
   "mimetype": "text/x-python",
   "name": "python",
   "nbconvert_exporter": "python",
   "pygments_lexer": "ipython3",
   "version": "3.7.4"
  }
 },
 "nbformat": 4,
 "nbformat_minor": 2
}

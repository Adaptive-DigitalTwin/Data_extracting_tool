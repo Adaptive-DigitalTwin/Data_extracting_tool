{
 "cells": [
  {
   "cell_type": "code",
   "execution_count": 6,
   "metadata": {},
   "outputs": [
    {
     "name": "stdout",
     "output_type": "stream",
     "text": [
      "13\n"
     ]
    }
   ],
   "source": [
    "import PyPDF2 \n",
    "import re\n",
    "import pickle\n",
    "\n",
    "# creating a pdf file object \n",
    "pdfFileObj = open('//bournemouth.ac.uk/data/staff/home/msapkota/Profile/Desktop/Digital_Twin.pdf', 'rb')\n",
    " \n",
    "# creating a pdf reader object \n",
    "pdfReader = PyPDF2.PdfFileReader(pdfFileObj) \n",
    "  \n",
    "# printing number of pages in pdf file \n",
    "print(pdfReader.numPages) \n",
    "  \n",
    "# creating a page object \n",
    "pageObj = pdfReader.getPage(1) \n",
    "  \n",
    "# extracting text from page \n",
    "#print(pageObj.extractText())\n",
    "\n",
    "# closing the pdf file object \n",
    "#pdfFileObj.close()"
   ]
  },
  {
   "cell_type": "code",
   "execution_count": 7,
   "metadata": {},
   "outputs": [
    {
     "name": "stdout",
     "output_type": "stream",
     "text": [
      "ProjectBackground-PredictionModellingforLifeCycleManagement\n",
      "PredictionforMaintenance\n",
      "Source:\n",
      "ITAGESoftwareConsultingAutomation\n",
      "Accident/FaultPrediction\n",
      "Source:\n",
      "www.microsoft.com\n",
      "Tomaintainthestructure'scontinuedr-purpose(FPP)\n",
      "PredictionofEconomical/Performance.\n",
      "PredictiveModelling-TechniquesbroadlybeingUsed\n",
      "StatisticalModel\n",
      "Figure:Predictionwithregression\n",
      "FEM(FiniteElementMethod)\n",
      "Source:\n",
      "www.simscale.com\n",
      "MadhuSudanSapkota\n",
      "Supervisors:\n",
      "DrEdwardApehProfVasilisKatosDrRoyaHaratianProfMark\n",
      "AdaptivePredictiveSimulationModellingUsingtheDigitalTwinParadigm\n",
      "\n"
     ]
    }
   ],
   "source": [
    "#extracting the text from the pdf reader object\n",
    "extractedText = pageObj.extractText()\n",
    "\n",
    "pdfFileObj.close()\n",
    "\n",
    "print(extractedText)\n"
   ]
  },
  {
   "cell_type": "code",
   "execution_count": 9,
   "metadata": {},
   "outputs": [
    {
     "ename": "SyntaxError",
     "evalue": "invalid syntax (<ipython-input-9-e8c89298716d>, line 10)",
     "output_type": "error",
     "traceback": [
      "\u001b[1;36m  File \u001b[1;32m\"<ipython-input-9-e8c89298716d>\"\u001b[1;36m, line \u001b[1;32m10\u001b[0m\n\u001b[1;33m    print [l[0].strip() for l in re_data_fields.findall(line)]\u001b[0m\n\u001b[1;37m                          ^\u001b[0m\n\u001b[1;31mSyntaxError\u001b[0m\u001b[1;31m:\u001b[0m invalid syntax\n"
     ]
    }
   ],
   "source": [
    "import subprocess\n",
    "import re\n",
    "\n",
    "output = subprocess.check_output([\"less\",\"BAG_15m_kzh_2012_de.pdf\"])\n",
    "\n",
    "re_data_prefix = re.compile(\"^[0-9]+[.].*$\")\n",
    "re_data_fields = re.compile(\"(([^ ]+[ ]?)+)\")\n",
    "for line in output.splitlines():\n",
    "    if re_data_prefix.match(line):\n",
    "        print [l[0].strip() for l in re_data_fields.findall(line)]"
   ]
  },
  {
   "cell_type": "code",
   "execution_count": null,
   "metadata": {},
   "outputs": [],
   "source": [
    "import pandas as pd\n",
    "import tabula\n",
    "file = \"BAG_15m_kzh_2012_de.pdf.pdf\"\n",
    "#path = 'enter your directory path here'  + file\n",
    "df = tabula.read_pdf(file, pages = '1', multiple_tables = True)\n",
    "print(df)"
   ]
  },
  {
   "cell_type": "code",
   "execution_count": null,
   "metadata": {},
   "outputs": [],
   "source": []
  }
 ],
 "metadata": {
  "kernelspec": {
   "display_name": "Python 3",
   "language": "python",
   "name": "python3"
  },
  "language_info": {
   "codemirror_mode": {
    "name": "ipython",
    "version": 3
   },
   "file_extension": ".py",
   "mimetype": "text/x-python",
   "name": "python",
   "nbconvert_exporter": "python",
   "pygments_lexer": "ipython3",
   "version": "3.7.4"
  }
 },
 "nbformat": 4,
 "nbformat_minor": 2
}
